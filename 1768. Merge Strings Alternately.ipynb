{
 "cells": [
  {
   "cell_type": "code",
   "execution_count": 3,
   "metadata": {},
   "outputs": [],
   "source": [
    "def mergeAlternately(word1: str, word2: str) -> str:\n",
    "        \n",
    "        w1 = list(word1)\n",
    "        w2 = list(word2)\n",
    "        n = len(w1) + len(w2)\n",
    "        n1 = len(w1)\n",
    "        n2 = len(w2)\n",
    "\n",
    "        temp = []\n",
    "        j = 0\n",
    "        k = 0\n",
    "        for i in range(n):\n",
    "            if n1 > 0:\n",
    "                temp.append(w1[j])\n",
    "                j = j + 1\n",
    "                n1 = n1 - 1\n",
    "            if n2 > 0:\n",
    "                temp.append(w2[k])\n",
    "                k = k + 1\n",
    "                n2 = n2 - 1\n",
    "        return ''.join(temp)"
   ]
  },
  {
   "cell_type": "code",
   "execution_count": 5,
   "metadata": {},
   "outputs": [
    {
     "data": {
      "text/plain": [
       "'adbesfwq'"
      ]
     },
     "execution_count": 5,
     "metadata": {},
     "output_type": "execute_result"
    }
   ],
   "source": [
    "mergeAlternately(\"abs\",\"defwq\")"
   ]
  },
  {
   "cell_type": "code",
   "execution_count": 11,
   "metadata": {},
   "outputs": [],
   "source": [
    "def mergeAlternately1(word1: str, word2: str) -> str:\n",
    "    merged = []\n",
    "\n",
    "    for a,b in zip(word1,word2):\n",
    "        merged.append(a + b)\n",
    "\n",
    "    merged.append(word1[len(word2):] or word2[len(word1):])\n",
    "    print(''.join(merged))"
   ]
  },
  {
   "cell_type": "code",
   "execution_count": 12,
   "metadata": {},
   "outputs": [
    {
     "name": "stdout",
     "output_type": "stream",
     "text": [
      "adbesfwq\n"
     ]
    }
   ],
   "source": [
    "mergeAlternately1(\"abs\",\"defwq\")"
   ]
  },
  {
   "cell_type": "code",
   "execution_count": null,
   "metadata": {},
   "outputs": [],
   "source": []
  }
 ],
 "metadata": {
  "kernelspec": {
   "display_name": "Python 3",
   "language": "python",
   "name": "python3"
  },
  "language_info": {
   "codemirror_mode": {
    "name": "ipython",
    "version": 3
   },
   "file_extension": ".py",
   "mimetype": "text/x-python",
   "name": "python",
   "nbconvert_exporter": "python",
   "pygments_lexer": "ipython3",
   "version": "3.13.3"
  }
 },
 "nbformat": 4,
 "nbformat_minor": 2
}
