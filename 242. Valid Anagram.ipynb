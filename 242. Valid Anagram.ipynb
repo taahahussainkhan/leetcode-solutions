{
 "cells": [
  {
   "cell_type": "code",
   "execution_count": null,
   "id": "9f86a364",
   "metadata": {
    "vscode": {
     "languageId": "plaintext"
    }
   },
   "outputs": [],
   "source": [
    "class Solution:\n",
    "    def isAnagram(self, s: str, t: str) -> bool:\n",
    "        if len(s) != len(t):\n",
    "            return False\n",
    "        count_s, count_t = {}, {}\n",
    "\n",
    "        for i in range(len(s)):\n",
    "            count_s[s[i]] = 1 + count_s.get(s[i], 0)\n",
    "            count_t[t[i]] = 1 + count_t.get(t[i], 0)\n",
    "        for c in count_s:\n",
    "            if count_s[c] != count_t.get(c, 0):\n",
    "                return False\n",
    "        return True"
   ]
  }
 ],
 "metadata": {
  "language_info": {
   "name": "python"
  }
 },
 "nbformat": 4,
 "nbformat_minor": 5
}
